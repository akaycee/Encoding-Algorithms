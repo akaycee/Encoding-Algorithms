{
 "cells": [
  {
   "cell_type": "markdown",
   "metadata": {},
   "source": [
    "## Lempel-Ziv-Welch Encoding"
   ]
  },
  {
   "cell_type": "code",
   "execution_count": 105,
   "metadata": {},
   "outputs": [],
   "source": [
    "\n",
    "import sys\n",
    "from sys import argv\n",
    "from struct import *\n",
    "from timeit import default_timer as timer\n",
    "import os\n",
    "from csv import writer, reader"
   ]
  },
  {
   "cell_type": "markdown",
   "metadata": {},
   "source": [
    "##### File encoding handler"
   ]
  },
  {
   "cell_type": "code",
   "execution_count": 106,
   "metadata": {},
   "outputs": [],
   "source": [
    "\n",
    "def encode_file(file_to_encode):\n",
    "    maximum_table_size = pow(2,int(16))      \n",
    "    file = open(file_to_encode)                 \n",
    "    data = file.read()                      \n",
    "    file.close()\n",
    "\n",
    "    size = 256                   \n",
    "    char_map = {chr(i): i for i in range(size)}    \n",
    "    string = \"\"             \n",
    "    encoded_msg = []    \n",
    "\n",
    "    for symbol in data:                     \n",
    "        string_plus_symbol = string + symbol\n",
    "        if string_plus_symbol in char_map: \n",
    "            string = string_plus_symbol\n",
    "        else:\n",
    "            encoded_msg.append(char_map[string])\n",
    "            if(len(char_map) <= maximum_table_size):\n",
    "                char_map[string_plus_symbol] = size\n",
    "                size += 1\n",
    "            string = symbol\n",
    "\n",
    "    if string in char_map:\n",
    "        encoded_msg.append(char_map[string])\n",
    "\n",
    "    enc_file = \"./Encoded_Files/\" + file_to_encode.split('/')[-1].split('.')[0] + \"_LZW_encoded\"\n",
    "    \n",
    "\n",
    "    with open(enc_file, \"wb\") as output_file:\n",
    "        for data in encoded_msg:\n",
    "            output_file.write(pack('>H',int(data)))\n",
    "            \n",
    "    return enc_file"
   ]
  },
  {
   "cell_type": "markdown",
   "metadata": {},
   "source": [
    "##### File decoding handler"
   ]
  },
  {
   "cell_type": "code",
   "execution_count": 107,
   "metadata": {},
   "outputs": [],
   "source": [
    "def decode_file(encoded_file, decode_to_file):\n",
    "    encoded_msg = []\n",
    "    next_code = 256\n",
    "    deencoded_msg = \"\"\n",
    "    string = \"\"\n",
    "\n",
    "    with open(encoded_file, \"rb\") as file:\n",
    "        while True:\n",
    "            rec = file.read(2)\n",
    "            if len(rec) != 2:\n",
    "                break\n",
    "            (data, ) = unpack('>H', rec)\n",
    "            encoded_msg.append(data)\n",
    "\n",
    "    size = 256\n",
    "    char_map = dict([(x, chr(x)) for x in range(size)])\n",
    "\n",
    "    for code in encoded_msg:\n",
    "        if not (code in char_map):\n",
    "            char_map[code] = string + (string[0])\n",
    "        deencoded_msg += char_map[code]\n",
    "        if not(len(string) == 0):\n",
    "            char_map[next_code] = string + (char_map[code][0])\n",
    "            next_code += 1\n",
    "        string = char_map[code]\n",
    "\n",
    "    with open(decode_to_file, \"w\") as output_file:\n",
    "        for data in deencoded_msg:\n",
    "            output_file.write(data)"
   ]
  },
  {
   "cell_type": "code",
   "execution_count": 108,
   "metadata": {},
   "outputs": [],
   "source": [
    "def get_compression_ratio(original_file, encoded_file):\n",
    "    og_size = os.path.getsize(original_file)\n",
    "    enc_size = os.path.getsize(encoded_file)\n",
    "\n",
    "    ratio = og_size/enc_size\n",
    "    return og_size, enc_size, ratio"
   ]
  },
  {
   "cell_type": "code",
   "execution_count": 109,
   "metadata": {},
   "outputs": [],
   "source": [
    "def Lempel_Ziv_Welch(file_to_be_encoded):\n",
    "    start = timer()\n",
    "    encoded_file = encode_file(file_to_be_encoded)\n",
    "    end = timer()\n",
    "\n",
    "    enc_time = end - start\n",
    "\n",
    "    decode_to_file = \"./Decoded_Files/\" + file_to_be_encoded.split('/')[-1].split('.')[0] + \"_LZW_decoded\"\n",
    "\n",
    "    start = timer()\n",
    "    decode_file(encoded_file, decode_to_file)\n",
    "    end = timer()\n",
    "\n",
    "    dec_time = end - start\n",
    "\n",
    "    print(enc_time, dec_time)\n",
    "\n",
    "    og_size, enc_size, ratio = get_compression_ratio(file_to_be_encoded, encoded_file)\n",
    "\n",
    "    print(og_size, enc_size, ratio)"
   ]
  },
  {
   "cell_type": "code",
   "execution_count": 110,
   "metadata": {},
   "outputs": [
    {
     "name": "stdout",
     "output_type": "stream",
     "text": [
      "0.031572200008668005 0.06552659999579191\n",
      "125179 62748 1.9949480461528655\n"
     ]
    }
   ],
   "source": [
    "filepath = \"./Input_Files/\"\n",
    "\n",
    "Lempel_Ziv_Welch(filepath+\"Shakespeare.txt\")"
   ]
  },
  {
   "cell_type": "code",
   "execution_count": null,
   "metadata": {},
   "outputs": [],
   "source": []
  }
 ],
 "metadata": {
  "kernelspec": {
   "display_name": "Python 3.10.8 64-bit",
   "language": "python",
   "name": "python3"
  },
  "language_info": {
   "codemirror_mode": {
    "name": "ipython",
    "version": 3
   },
   "file_extension": ".py",
   "mimetype": "text/x-python",
   "name": "python",
   "nbconvert_exporter": "python",
   "pygments_lexer": "ipython3",
   "version": "3.10.8"
  },
  "orig_nbformat": 4,
  "vscode": {
   "interpreter": {
    "hash": "315ca74f26c9b99a79152e5763a3690175558ee9ceb3d19d9ba1c14bd96a93a1"
   }
  }
 },
 "nbformat": 4,
 "nbformat_minor": 2
}
