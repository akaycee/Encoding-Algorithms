{
 "cells": [
  {
   "cell_type": "markdown",
   "metadata": {},
   "source": [
    "## Arithematic Encoding"
   ]
  },
  {
   "cell_type": "code",
   "execution_count": 1,
   "metadata": {},
   "outputs": [],
   "source": [
    "from decimal import Decimal, getcontext\n",
    "import os\n",
    "from sys import getsizeof\n",
    "from difflib import SequenceMatcher\n",
    "from timeit import default_timer as timer"
   ]
  },
  {
   "cell_type": "markdown",
   "metadata": {},
   "source": [
    "##### Library Definition"
   ]
  },
  {
   "cell_type": "code",
   "execution_count": 2,
   "metadata": {},
   "outputs": [],
   "source": [
    "getcontext().prec=128\n",
    "\n",
    "class ArithmeticEncoding:\n",
    "    def __init__(self, frequency_table):\n",
    "        self.probability_table = self.get_probability_table(frequency_table)\n",
    "\n",
    "    def get_probability_table(self, frequency_table):\n",
    "        total_frequency = sum(list(frequency_table.values()))\n",
    "\n",
    "        probability_table = {}\n",
    "        for key, value in frequency_table.items():\n",
    "            probability_table[key] = value/total_frequency\n",
    "\n",
    "        return probability_table\n",
    "\n",
    "    def get_encoded_value(self, encoder):\n",
    "        last_stage = list(encoder[-1].values())\n",
    "        last_stage_values = []\n",
    "        for sublist in last_stage:\n",
    "            for element in sublist:\n",
    "                last_stage_values.append(element)\n",
    "\n",
    "        last_stage_min = min(last_stage_values)\n",
    "        last_stage_max = max(last_stage_values)\n",
    "\n",
    "        return (last_stage_min + last_stage_max)/2\n",
    "\n",
    "    def process_stage(self, probability_table, stage_min, stage_max):\n",
    "        stage_probs = {}\n",
    "        stage_domain = stage_max - stage_min\n",
    "        for term_idx in range(len(probability_table.items())):\n",
    "            term = list(probability_table.keys())[term_idx]\n",
    "            term_prob = Decimal(probability_table[term])\n",
    "            cum_prob = term_prob * stage_domain + stage_min\n",
    "            stage_probs[term] = [stage_min, cum_prob]\n",
    "            stage_min = cum_prob\n",
    "        return stage_probs\n",
    "\n",
    "    def encode(self, msg, probability_table):\n",
    "\n",
    "        encoder = []\n",
    "\n",
    "        stage_min = Decimal(0.0)\n",
    "        stage_max = Decimal(1.0)\n",
    "        \n",
    "        for msg_term_idx in range(len(msg)):\n",
    "            stage_probs = self.process_stage(probability_table, stage_min, stage_max)\n",
    "\n",
    "            msg_term = msg[msg_term_idx]\n",
    "            stage_min = stage_probs[msg_term][0]\n",
    "            stage_max = stage_probs[msg_term][1]\n",
    "\n",
    "            encoder.append(stage_probs)\n",
    "\n",
    "        stage_probs = self.process_stage(probability_table, stage_min, stage_max)\n",
    "        encoder.append(stage_probs)\n",
    "\n",
    "        encoded_msg = self.get_encoded_value(encoder)\n",
    "\n",
    "        return encoder, encoded_msg\n",
    "\n",
    "    def decode(self, encoded_msg, msg_length, probability_table):\n",
    "\n",
    "        decoder = []\n",
    "        decoded_msg = \"\"\n",
    "\n",
    "        stage_min = Decimal(0.0)\n",
    "        stage_max = Decimal(1.0)\n",
    "\n",
    "        for _ in range(msg_length):\n",
    "            stage_probs = self.process_stage(probability_table, stage_min, stage_max)\n",
    "\n",
    "            for msg_term, value in stage_probs.items():\n",
    "                if encoded_msg >= value[0] and encoded_msg <= value[1]:\n",
    "                    break\n",
    "\n",
    "            decoded_msg = decoded_msg + msg_term\n",
    "            stage_min = stage_probs[msg_term][0]\n",
    "            stage_max = stage_probs[msg_term][1]\n",
    "\n",
    "            decoder.append(stage_probs)\n",
    "\n",
    "        stage_probs = self.process_stage(probability_table, stage_min, stage_max)\n",
    "        decoder.append(stage_probs)\n",
    "\n",
    "        return decoder, decoded_msg"
   ]
  },
  {
   "cell_type": "markdown",
   "metadata": {},
   "source": [
    "##### File encoding handler"
   ]
  },
  {
   "cell_type": "code",
   "execution_count": 3,
   "metadata": {},
   "outputs": [],
   "source": [
    "def encode_file(file_to_be_encoded):\n",
    "  freq_table = {}\n",
    "  with open(file_to_be_encoded) as f:\n",
    "      for line in f.readlines():\n",
    "          for char in line:\n",
    "              if char not in freq_table:\n",
    "                  freq_table[char] = 1\n",
    "              else:\n",
    "                  freq_table[char] += 1\n",
    "\n",
    "  AE = ArithmeticEncoding(freq_table)\n",
    "\n",
    "  encoded_msg_len = []\n",
    "\n",
    "  enc_msg_file = \"./Encoded_Files/\" + file_to_be_encoded.split('/')[-1].split('.')[0] + \"_AE_encoded\"\n",
    "  with open(enc_msg_file, \"w\") as enc_file:\n",
    "    with open(file_to_be_encoded) as f:\n",
    "        for line in f.readlines():\n",
    "            encoded_msg_len.append(len(line))\n",
    "            _, encoded_msg = AE.encode(msg=line,\n",
    "                                    probability_table=AE.probability_table)\n",
    "            enc_file.write(str(encoded_msg))\n",
    "            enc_file.write(\"\\n\")\n",
    "\n",
    "  return enc_msg_file, encoded_msg_len, freq_table\n"
   ]
  },
  {
   "cell_type": "markdown",
   "metadata": {},
   "source": [
    "##### File Decoding handler"
   ]
  },
  {
   "cell_type": "code",
   "execution_count": 4,
   "metadata": {},
   "outputs": [],
   "source": [
    "def decode_file(encoded_file, encoded_msg_len, frequency_table, decode_to_file):\n",
    "    dec_file = open(decode_to_file, \"w\")\n",
    "    AE = ArithmeticEncoding(frequency_table)\n",
    "\n",
    "    with open(encoded_file) as enc_file:\n",
    "        for i, encoded_msg in enumerate(enc_file.readlines()):\n",
    "            _, decoded_msg = AE.decode(encoded_msg=Decimal(encoded_msg),\n",
    "                                  msg_length=encoded_msg_len[i],\n",
    "                                  probability_table=AE.probability_table)\n",
    "            dec_file.write(decoded_msg)    \n",
    "\n",
    "    dec_file.close()"
   ]
  },
  {
   "cell_type": "markdown",
   "metadata": {},
   "source": [
    "##### Compression Ratio"
   ]
  },
  {
   "cell_type": "code",
   "execution_count": 5,
   "metadata": {},
   "outputs": [],
   "source": [
    "\n",
    "def get_compression_ratio(original_file, encoded_file):\n",
    "    og_size = os.path.getsize(original_file)\n",
    "    enc_size = 0\n",
    "\n",
    "    with open(encoded_file) as f:\n",
    "        enc_size = 16 * len(f.readlines())\n",
    "\n",
    "    ratio = og_size/enc_size\n",
    "    return og_size, enc_size, ratio\n"
   ]
  },
  {
   "cell_type": "markdown",
   "metadata": {},
   "source": [
    "##### Verify Original and Decoded File are the same"
   ]
  },
  {
   "cell_type": "code",
   "execution_count": 6,
   "metadata": {},
   "outputs": [],
   "source": [
    "\n",
    "def verify(original_file, decoded_file):    \n",
    "    text1 = open(original_file).read()\n",
    "    text2 = open(decoded_file).read()\n",
    "    m = SequenceMatcher(None, text1, text2)\n",
    "    \n",
    "    if m.ratio() == 1.0:\n",
    "        return True\n",
    "    \n",
    "    return False"
   ]
  },
  {
   "cell_type": "markdown",
   "metadata": {},
   "source": [
    "##### Driver Code"
   ]
  },
  {
   "cell_type": "code",
   "execution_count": 7,
   "metadata": {},
   "outputs": [],
   "source": [
    "\n",
    "def Arithmetic_Encoding(file_to_be_encoded):\n",
    "\n",
    "    start = timer()\n",
    "    encoded_file, encoded_msg_len, freq_table = encode_file(file_to_be_encoded)\n",
    "    end = timer()\n",
    "\n",
    "    enc_time = end - start\n",
    "\n",
    "    decode_to_file = \"./Decoded_Files/\" + file_to_be_encoded.split('/')[-1].split('.')[0] + \"_AE_decoded\"\n",
    "\n",
    "    start = timer()\n",
    "    decode_file(encoded_file, encoded_msg_len, freq_table, decode_to_file)\n",
    "    end = timer()\n",
    "\n",
    "    dec_time = end - start\n",
    "\n",
    "    og_size, enc_size, ratio = get_compression_ratio(file_to_be_encoded, encoded_file)\n",
    "\n",
    "    result = verify(file_to_be_encoded, decode_to_file)\n",
    "    print(\"Original and Decoded file\", \"MATCH!\" if result == 1.0 else \"DO NOT MATCH!\")\n",
    "    \n",
    "    return (og_size, enc_size, enc_time, dec_time)"
   ]
  },
  {
   "cell_type": "code",
   "execution_count": 8,
   "metadata": {},
   "outputs": [
    {
     "name": "stdout",
     "output_type": "stream",
     "text": [
      "Original and Decoded file MATCH!\n",
      "Original and Decoded file MATCH!\n"
     ]
    },
    {
     "ename": "UnicodeDecodeError",
     "evalue": "'charmap' codec can't decode byte 0x9d in position 535: character maps to <undefined>",
     "output_type": "error",
     "traceback": [
      "\u001b[1;31m---------------------------------------------------------------------------\u001b[0m",
      "\u001b[1;31mUnicodeDecodeError\u001b[0m                        Traceback (most recent call last)",
      "Cell \u001b[1;32mIn [8], line 7\u001b[0m\n\u001b[0;32m      5\u001b[0m res_ae \u001b[39m=\u001b[39m []\n\u001b[0;32m      6\u001b[0m \u001b[39mfor\u001b[39;00m file \u001b[39min\u001b[39;00m files:\n\u001b[1;32m----> 7\u001b[0m     res_ae\u001b[39m.\u001b[39mappend(Arithmetic_Encoding(filepath\u001b[39m+\u001b[39;49mfile))\n\u001b[0;32m      9\u001b[0m \u001b[39mprint\u001b[39m(res_ae)\n",
      "Cell \u001b[1;32mIn [7], line 4\u001b[0m, in \u001b[0;36mArithmetic_Encoding\u001b[1;34m(file_to_be_encoded)\u001b[0m\n\u001b[0;32m      1\u001b[0m \u001b[39mdef\u001b[39;00m \u001b[39mArithmetic_Encoding\u001b[39m(file_to_be_encoded):\n\u001b[0;32m      3\u001b[0m     start \u001b[39m=\u001b[39m timer()\n\u001b[1;32m----> 4\u001b[0m     encoded_file, encoded_msg_len, freq_table \u001b[39m=\u001b[39m encode_file(file_to_be_encoded)\n\u001b[0;32m      5\u001b[0m     end \u001b[39m=\u001b[39m timer()\n\u001b[0;32m      7\u001b[0m     enc_time \u001b[39m=\u001b[39m end \u001b[39m-\u001b[39m start\n",
      "Cell \u001b[1;32mIn [3], line 4\u001b[0m, in \u001b[0;36mencode_file\u001b[1;34m(file_to_be_encoded)\u001b[0m\n\u001b[0;32m      2\u001b[0m freq_table \u001b[39m=\u001b[39m {}\n\u001b[0;32m      3\u001b[0m \u001b[39mwith\u001b[39;00m \u001b[39mopen\u001b[39m(file_to_be_encoded) \u001b[39mas\u001b[39;00m f:\n\u001b[1;32m----> 4\u001b[0m     \u001b[39mfor\u001b[39;00m line \u001b[39min\u001b[39;00m f\u001b[39m.\u001b[39;49mreadlines():\n\u001b[0;32m      5\u001b[0m         \u001b[39mfor\u001b[39;00m char \u001b[39min\u001b[39;00m line:\n\u001b[0;32m      6\u001b[0m             \u001b[39mif\u001b[39;00m char \u001b[39mnot\u001b[39;00m \u001b[39min\u001b[39;00m freq_table:\n",
      "File \u001b[1;32mc:\\Users\\akayc\\AppData\\Local\\Programs\\Python\\Python310\\lib\\encodings\\cp1252.py:23\u001b[0m, in \u001b[0;36mIncrementalDecoder.decode\u001b[1;34m(self, input, final)\u001b[0m\n\u001b[0;32m     22\u001b[0m \u001b[39mdef\u001b[39;00m \u001b[39mdecode\u001b[39m(\u001b[39mself\u001b[39m, \u001b[39minput\u001b[39m, final\u001b[39m=\u001b[39m\u001b[39mFalse\u001b[39;00m):\n\u001b[1;32m---> 23\u001b[0m     \u001b[39mreturn\u001b[39;00m codecs\u001b[39m.\u001b[39;49mcharmap_decode(\u001b[39minput\u001b[39;49m,\u001b[39mself\u001b[39;49m\u001b[39m.\u001b[39;49merrors,decoding_table)[\u001b[39m0\u001b[39m]\n",
      "\u001b[1;31mUnicodeDecodeError\u001b[0m: 'charmap' codec can't decode byte 0x9d in position 535: character maps to <undefined>"
     ]
    }
   ],
   "source": [
    "filepath = \"./Input_Files/\"\n",
    "\n",
    "files = os.listdir(filepath)\n",
    "\n",
    "res_ae = []\n",
    "for file in files:\n",
    "    res_ae.append(Arithmetic_Encoding(filepath+file))\n",
    "\n",
    "print(res_ae)"
   ]
  },
  {
   "cell_type": "markdown",
   "metadata": {},
   "source": [
    "cant encode long texts  \n",
    "need to split it into smaller chunks  \n",
    "precision needs to be high to encode, chose 128 in this case  "
   ]
  },
  {
   "cell_type": "markdown",
   "metadata": {},
   "source": [
    "##### TODO\n"
   ]
  },
  {
   "cell_type": "markdown",
   "metadata": {},
   "source": [
    "Get timing data   \n",
    "loss based on precision  "
   ]
  }
 ],
 "metadata": {
  "kernelspec": {
   "display_name": "Python 3.10.8 64-bit",
   "language": "python",
   "name": "python3"
  },
  "language_info": {
   "codemirror_mode": {
    "name": "ipython",
    "version": 3
   },
   "file_extension": ".py",
   "mimetype": "text/x-python",
   "name": "python",
   "nbconvert_exporter": "python",
   "pygments_lexer": "ipython3",
   "version": "3.10.8"
  },
  "orig_nbformat": 4,
  "vscode": {
   "interpreter": {
    "hash": "315ca74f26c9b99a79152e5763a3690175558ee9ceb3d19d9ba1c14bd96a93a1"
   }
  }
 },
 "nbformat": 4,
 "nbformat_minor": 2
}
